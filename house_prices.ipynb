{
 "cells": [
  {
   "cell_type": "code",
   "execution_count": 32,
   "metadata": {},
   "outputs": [],
   "source": [
    "# IMPORT PACKAGES\n",
    "import pandas as pd\n",
    "import numpy as np\n",
    "from sklearn.decomposition import PCA\n",
    "from sklearn.linear_model import ElasticNet\n",
    "from sklearn.svm import SVR\n",
    "from sklearn.model_selection import train_test_split\n",
    "from sklearn.metrics import r2_score"
   ]
  },
  {
   "cell_type": "code",
   "execution_count": 2,
   "metadata": {},
   "outputs": [],
   "source": [
    "# READ CSV DATA\n",
    "def read_data_csv(filename):\n",
    "    return pd.read_csv(filename)"
   ]
  },
  {
   "cell_type": "code",
   "execution_count": 3,
   "metadata": {},
   "outputs": [],
   "source": [
    "# DROP FEATURES THAT WILL NOT BE USED\n",
    "def drop_useless_columns(df):\n",
    "    df_ = df.copy()\n",
    "    return df_.drop(columns=['Id'])"
   ]
  },
  {
   "cell_type": "code",
   "execution_count": 4,
   "metadata": {},
   "outputs": [],
   "source": [
    "# SPLITS FEATURES BETWEEN NUMERICAL AND CATEGORICAL\n",
    "def split_numerical_categorical(df):\n",
    "    df_ = df.copy()\n",
    "    df_dtypes = df_.dtypes.to_dict()\n",
    "    \n",
    "    feature_numbers = []\n",
    "    feature_objects = []\n",
    "    \n",
    "    for i,j in df_dtypes.items():\n",
    "        if j.char == 'O':\n",
    "            feature_objects.append(i)\n",
    "        else:\n",
    "            feature_numbers.append(i)\n",
    "            \n",
    "    return feature_numbers, feature_objects"
   ]
  },
  {
   "cell_type": "code",
   "execution_count": 5,
   "metadata": {},
   "outputs": [],
   "source": [
    "# NA FILLER FOR CATEGORICAL AND NUMERICAL DATA\n",
    "def na_filler_function(df):\n",
    "    df_ = df.copy()\n",
    "\n",
    "    feature_numbers, feature_objects = split_numerical_categorical(df_)\n",
    "            \n",
    "    if len(feature_objects) > 0:\n",
    "        df_[feature_objects] = df_[feature_objects].fillna('None').copy()\n",
    "    if len(feature_numbers) > 0:\n",
    "        df_[feature_numbers] = df_[feature_numbers].fillna(0).copy()\n",
    "    \n",
    "    return df_"
   ]
  },
  {
   "cell_type": "code",
   "execution_count": 6,
   "metadata": {},
   "outputs": [],
   "source": [
    "# ONE INSTANCE OF OHE\n",
    "class OHE:\n",
    "    def __init__(self, column_name, drop=False):\n",
    "        self.column_name = column_name\n",
    "        self.drop = drop\n",
    "        self.new_cols = []\n",
    "        \n",
    "    def fit(self, X_, y=None):\n",
    "        # UNIQUE VALUES ON COLUMN\n",
    "        self.new_cols = X_[self.column_name].unique()\n",
    "    \n",
    "    def transform(self, X_, y=None):\n",
    "        X = X_.copy()\n",
    "\n",
    "        # CREATE COLUMNS\n",
    "        for i in self.new_cols:\n",
    "            j = X[\n",
    "                X[self.column_name] == i\n",
    "            ].index\n",
    "            \n",
    "            new_label = self.column_name + '_' + str(i)\n",
    "            X[new_label] = 0\n",
    "            X.loc[j, new_label] = 1\n",
    "            \n",
    "        # DROP ORIGINAL COLUMN\n",
    "        if self.drop:\n",
    "            return X.drop(columns=[self.column_name])\n",
    "        else:\n",
    "            return X\n",
    "    \n",
    "    def fit_transform(self, X_, y=None):\n",
    "        self.fit(X_)\n",
    "        return self.transform(X_)"
   ]
  },
  {
   "cell_type": "code",
   "execution_count": 7,
   "metadata": {},
   "outputs": [],
   "source": [
    "# CONVERTS ALL CATEGORICAL DATA INTO OHE REPRESENTATION\n",
    "class OHE_Categorical:\n",
    "    def __init__(self):\n",
    "        self.ohe = []\n",
    "    \n",
    "    def fit(self, df, y=None):\n",
    "        df_ = df.copy()\n",
    "        feature_numbers, feature_objects = split_numerical_categorical(df_)\n",
    "\n",
    "        for i in feature_objects:\n",
    "            self.ohe.append(OHE(i, drop=True))\n",
    "            \n",
    "        for i in range(len(self.ohe)):\n",
    "            self.ohe[i].fit(df_)\n",
    "        \n",
    "    def transform(self, df, y=None):\n",
    "        df_ = df.copy()\n",
    "        for i in range(len(self.ohe)):\n",
    "            df_ = self.ohe[i].transform(df_)\n",
    "\n",
    "        return df_\n",
    "    \n",
    "    def fit_transform(self, df, y=None):\n",
    "        self.fit(df)\n",
    "        return self.transform(df)"
   ]
  },
  {
   "cell_type": "code",
   "execution_count": 8,
   "metadata": {},
   "outputs": [],
   "source": [
    "# SPLIT X AND Y\n",
    "def split_x_and_y(df):\n",
    "    y = df['SalePrice']\n",
    "    X = df.drop(columns='SalePrice')\n",
    "    \n",
    "    return X,y"
   ]
  },
  {
   "cell_type": "markdown",
   "metadata": {},
   "source": [
    "### LOAD DATA"
   ]
  },
  {
   "cell_type": "code",
   "execution_count": 9,
   "metadata": {},
   "outputs": [],
   "source": [
    "df = read_data_csv('train.csv')"
   ]
  },
  {
   "cell_type": "markdown",
   "metadata": {},
   "source": [
    "### PRE-PROCESS DATA"
   ]
  },
  {
   "cell_type": "code",
   "execution_count": 54,
   "metadata": {},
   "outputs": [],
   "source": [
    "df1 = df.copy()\n",
    "df1 = na_filler_function(df1)\n",
    "df1['MSSubClass'] = df1['MSSubClass'].astype('object')\n",
    "ohe = OHE_Categorical()\n",
    "df1 = ohe.fit_transform(df1)\n",
    "X, y = split_x_and_y(df1)\n",
    "X_train, X_test, y_train, y_test = train_test_split(X, y, test_size=0.2)\n",
    "pca = PCA(n_components=30)\n",
    "x_train = pca.fit_transform(X_train)\n",
    "x_test = pca.transform(X_test)"
   ]
  },
  {
   "cell_type": "code",
   "execution_count": 55,
   "metadata": {},
   "outputs": [],
   "source": [
    "elasticnet = ElasticNet()"
   ]
  },
  {
   "cell_type": "code",
   "execution_count": 56,
   "metadata": {},
   "outputs": [
    {
     "name": "stderr",
     "output_type": "stream",
     "text": [
      "/home/lawrence/anaconda3/lib/python3.8/site-packages/sklearn/linear_model/_coordinate_descent.py:529: ConvergenceWarning: Objective did not converge. You might want to increase the number of iterations. Duality gap: 741903400644.9136, tolerance: 749719894.5018458\n",
      "  model = cd_fast.enet_coordinate_descent(\n"
     ]
    },
    {
     "data": {
      "text/plain": [
       "ElasticNet()"
      ]
     },
     "execution_count": 56,
     "metadata": {},
     "output_type": "execute_result"
    }
   ],
   "source": [
    "elasticnet.fit(X_train, y_train)"
   ]
  },
  {
   "cell_type": "code",
   "execution_count": 57,
   "metadata": {},
   "outputs": [],
   "source": [
    "y_pred = elasticnet.predict(X_test)"
   ]
  },
  {
   "cell_type": "code",
   "execution_count": 58,
   "metadata": {},
   "outputs": [
    {
     "data": {
      "text/plain": [
       "0.8228698106908036"
      ]
     },
     "execution_count": 58,
     "metadata": {},
     "output_type": "execute_result"
    }
   ],
   "source": [
    "r2_score(y_pred, y_test)"
   ]
  },
  {
   "cell_type": "markdown",
   "metadata": {},
   "source": [
    "### TEST PREDICTION"
   ]
  },
  {
   "cell_type": "code",
   "execution_count": 59,
   "metadata": {},
   "outputs": [],
   "source": [
    "df_test = read_data_csv('test.csv')"
   ]
  },
  {
   "cell_type": "code",
   "execution_count": 60,
   "metadata": {},
   "outputs": [],
   "source": [
    "df1 = df_test.copy()\n",
    "df1 = na_filler_function(df1)\n",
    "df1['MSSubClass'] = df1['MSSubClass'].astype('object')\n",
    "df1 = ohe.transform(df1)"
   ]
  },
  {
   "cell_type": "code",
   "execution_count": 61,
   "metadata": {},
   "outputs": [],
   "source": [
    "y_pred = elasticnet.predict(df1)"
   ]
  },
  {
   "cell_type": "code",
   "execution_count": 64,
   "metadata": {},
   "outputs": [],
   "source": [
    "# CREATE SUBMISSION FILE\n",
    "id = df1['Id'].to_list()\n",
    "target = y_pred.tolist()\n",
    "\n",
    "# CREATE DICTIONARY FOR DATAFRAME\n",
    "dataframe_dictionary = {\n",
    "    'id': id,\n",
    "    'SalePrice': target\n",
    "}\n",
    "\n",
    "# CREATE DATAFRAME\n",
    "submission_df = pd.DataFrame(dataframe_dictionary, index=None)\n",
    "submission_df.to_csv('submission.csv', index=None)"
   ]
  },
  {
   "cell_type": "code",
   "execution_count": null,
   "metadata": {},
   "outputs": [],
   "source": []
  }
 ],
 "metadata": {
  "kernelspec": {
   "display_name": "Python 3",
   "language": "python",
   "name": "python3"
  },
  "language_info": {
   "codemirror_mode": {
    "name": "ipython",
    "version": 3
   },
   "file_extension": ".py",
   "mimetype": "text/x-python",
   "name": "python",
   "nbconvert_exporter": "python",
   "pygments_lexer": "ipython3",
   "version": "3.8.5"
  }
 },
 "nbformat": 4,
 "nbformat_minor": 4
}
