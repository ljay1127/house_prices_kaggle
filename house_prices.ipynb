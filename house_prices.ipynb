{
 "cells": [
  {
   "cell_type": "code",
   "execution_count": 232,
   "metadata": {},
   "outputs": [],
   "source": [
    "# IMPORT PACKAGES\n",
    "import pandas as pd\n",
    "import numpy as np"
   ]
  },
  {
   "cell_type": "code",
   "execution_count": 233,
   "metadata": {},
   "outputs": [],
   "source": [
    "def read_data_csv(filename):\n",
    "    return pd.read_csv(filename)"
   ]
  },
  {
   "cell_type": "code",
   "execution_count": 234,
   "metadata": {},
   "outputs": [],
   "source": [
    "def drop_useless_columns(df):\n",
    "    df_ = df.copy()\n",
    "    return df_.drop(columns=['Id'])"
   ]
  },
  {
   "cell_type": "code",
   "execution_count": 235,
   "metadata": {},
   "outputs": [],
   "source": [
    "# SPLITS FEATURES BETWEEN NUMERICAL AND CATEGORICAL\n",
    "def split_numerical_categorical(df):\n",
    "    df_ = df.copy()\n",
    "    df_dtypes = df_.dtypes.to_dict()\n",
    "    \n",
    "    feature_numbers = []\n",
    "    feature_objects = []\n",
    "    \n",
    "    for i,j in df_dtypes.items():\n",
    "        if j.char == 'O':\n",
    "            feature_objects.append(i)\n",
    "        else:\n",
    "            feature_numbers.append(i)\n",
    "            \n",
    "    return feature_numbers, feature_objects"
   ]
  },
  {
   "cell_type": "code",
   "execution_count": 236,
   "metadata": {},
   "outputs": [],
   "source": [
    "# NA FILLER FOR CATEGORICAL AND NUMERICAL DATA\n",
    "def na_filler_function(df):\n",
    "    df_ = df.copy()\n",
    "\n",
    "    feature_numbers, feature_objects = split_numerical_categorical(df_)\n",
    "            \n",
    "    if len(feature_objects) > 0:\n",
    "        df_[feature_objects] = df_[feature_objects].fillna('None').copy()\n",
    "    if len(feature_numbers) > 0:\n",
    "        df_[feature_numbers] = df_[feature_numbers].fillna(0).copy()\n",
    "    \n",
    "    return df_"
   ]
  },
  {
   "cell_type": "code",
   "execution_count": 237,
   "metadata": {},
   "outputs": [],
   "source": [
    "# ONE INSTANCE OF OHE\n",
    "class OHE:\n",
    "    def __init__(self, column_name, drop=False):\n",
    "        self.column_name = column_name\n",
    "        self.drop = drop\n",
    "        self.new_cols = []\n",
    "        \n",
    "    def fit(self, X_, y=None):\n",
    "        # UNIQUE VALUES ON COLUMN\n",
    "        self.new_cols = X_[self.column_name].unique()\n",
    "    \n",
    "    def transform(self, X_, y=None):\n",
    "        X = X_.copy()\n",
    "\n",
    "        # CREATE COLUMNS\n",
    "        for i in self.new_cols:\n",
    "            j = X[\n",
    "                X[self.column_name] == i\n",
    "            ].index\n",
    "            \n",
    "            new_label = self.column_name + '_' + str(i)\n",
    "            X[new_label] = 0\n",
    "            X.loc[j, new_label] = 1\n",
    "            \n",
    "        # DROP ORIGINAL COLUMN\n",
    "        if self.drop:\n",
    "            return X.drop(columns=[self.column_name])\n",
    "        else:\n",
    "            return X\n",
    "    \n",
    "    def fit_transform(self, X_, y=None):\n",
    "        self.fit(X_)\n",
    "        return self.transform(X_)"
   ]
  },
  {
   "cell_type": "code",
   "execution_count": 238,
   "metadata": {},
   "outputs": [],
   "source": [
    "# CONVERTS ALL CATEGORICAL DATA INTO OHE REPRESENTATION\n",
    "class OHE_Categorical:\n",
    "    def __init__(self):\n",
    "        self.ohe = []\n",
    "    \n",
    "    def fit(self, df, y=None):\n",
    "        df_ = df.copy()\n",
    "        feature_numbers, feature_objects = split_numerical_categorical(df_)\n",
    "\n",
    "        for i in feature_objects:\n",
    "            self.ohe.append(OHE(i, drop=True))\n",
    "            \n",
    "        for i in range(len(self.ohe)):\n",
    "            self.ohe[i].fit(df_)\n",
    "        \n",
    "    def transform(self, df, y=None):\n",
    "        df_ = df.copy()\n",
    "        for i in range(len(self.ohe)):\n",
    "            df_ = self.ohe[i].transform(df_)\n",
    "\n",
    "        return df_\n",
    "    \n",
    "    def fit_transform(self, df, y=None):\n",
    "        self.fit(df)\n",
    "        return self.transform(df)"
   ]
  },
  {
   "cell_type": "markdown",
   "metadata": {},
   "source": [
    "### LOAD DATA"
   ]
  },
  {
   "cell_type": "code",
   "execution_count": 239,
   "metadata": {},
   "outputs": [],
   "source": [
    "df = read_data_csv('train.csv')"
   ]
  },
  {
   "cell_type": "markdown",
   "metadata": {},
   "source": [
    "### PRE-PROCESS DATA"
   ]
  },
  {
   "cell_type": "code",
   "execution_count": 241,
   "metadata": {},
   "outputs": [],
   "source": [
    "df1 = df.copy()\n",
    "df1 = na_filler_function(df1)\n",
    "df1['MSSubClass'] = df1['MSSubClass'].astype('object')\n",
    "ohe = OHE_Categorical()\n",
    "df1 = ohe.fit_transform(df1)"
   ]
  },
  {
   "cell_type": "code",
   "execution_count": null,
   "metadata": {},
   "outputs": [],
   "source": []
  }
 ],
 "metadata": {
  "kernelspec": {
   "display_name": "Python 3",
   "language": "python",
   "name": "python3"
  },
  "language_info": {
   "codemirror_mode": {
    "name": "ipython",
    "version": 3
   },
   "file_extension": ".py",
   "mimetype": "text/x-python",
   "name": "python",
   "nbconvert_exporter": "python",
   "pygments_lexer": "ipython3",
   "version": "3.8.5"
  }
 },
 "nbformat": 4,
 "nbformat_minor": 4
}
